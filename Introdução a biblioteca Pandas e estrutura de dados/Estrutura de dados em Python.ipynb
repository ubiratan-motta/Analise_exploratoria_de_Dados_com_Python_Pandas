{
 "cells": [
  {
   "cell_type": "markdown",
   "id": "1338a886",
   "metadata": {},
   "source": [
    "# ESTRUTURAS DE DADOS\n",
    "## Lista "
   ]
  },
  {
   "cell_type": "code",
   "execution_count": 6,
   "id": "9e53fe42",
   "metadata": {},
   "outputs": [
    {
     "data": {
      "text/plain": [
       "[1, 2, 3]"
      ]
     },
     "execution_count": 6,
     "metadata": {},
     "output_type": "execute_result"
    }
   ],
   "source": [
    "#criando uma lista chamada animais\n",
    "animais = [1, 2, 3]\n",
    "animais"
   ]
  },
  {
   "cell_type": "code",
   "execution_count": 7,
   "id": "cae09a38",
   "metadata": {},
   "outputs": [
    {
     "data": {
      "text/plain": [
       "['cachorro', 'gato', 12345, 6.5]"
      ]
     },
     "execution_count": 7,
     "metadata": {},
     "output_type": "execute_result"
    }
   ],
   "source": [
    "animais = [\"cachorro\", \"gato\", 12345, 6.5]\n",
    "animais"
   ]
  },
  {
   "cell_type": "code",
   "execution_count": 8,
   "id": "93fdd2f6",
   "metadata": {},
   "outputs": [
    {
     "data": {
      "text/plain": [
       "'cachorro'"
      ]
     },
     "execution_count": 8,
     "metadata": {},
     "output_type": "execute_result"
    }
   ],
   "source": [
    "#Imprimindo o primeiro elemento da lista\n",
    "animais[0]"
   ]
  },
  {
   "cell_type": "code",
   "execution_count": 9,
   "id": "ab316a3e",
   "metadata": {},
   "outputs": [
    {
     "data": {
      "text/plain": [
       "6.5"
      ]
     },
     "execution_count": 9,
     "metadata": {},
     "output_type": "execute_result"
    }
   ],
   "source": [
    "#Imprimindo o 4 elemento da lista\n",
    "animais[3]"
   ]
  },
  {
   "cell_type": "code",
   "execution_count": 10,
   "id": "835ec05c",
   "metadata": {},
   "outputs": [],
   "source": [
    "#Substituindo o primeiro elemento da lista\n",
    "animais[0] = \"papagaio\""
   ]
  },
  {
   "cell_type": "code",
   "execution_count": 11,
   "id": "7ad1b285",
   "metadata": {},
   "outputs": [
    {
     "data": {
      "text/plain": [
       "['papagaio', 'gato', 12345, 6.5]"
      ]
     },
     "execution_count": 11,
     "metadata": {},
     "output_type": "execute_result"
    }
   ],
   "source": [
    "animais"
   ]
  },
  {
   "cell_type": "code",
   "execution_count": 13,
   "id": "9fbed2a5",
   "metadata": {},
   "outputs": [],
   "source": [
    "#removendo gato da lista \n",
    "animais.remove(\"gato\")"
   ]
  },
  {
   "cell_type": "code",
   "execution_count": 14,
   "id": "bd8423a6",
   "metadata": {},
   "outputs": [
    {
     "data": {
      "text/plain": [
       "['papagaio', 12345, 6.5]"
      ]
     },
     "execution_count": 14,
     "metadata": {},
     "output_type": "execute_result"
    }
   ],
   "source": [
    "animais"
   ]
  },
  {
   "cell_type": "code",
   "execution_count": 15,
   "id": "754d7eb4",
   "metadata": {},
   "outputs": [
    {
     "data": {
      "text/plain": [
       "3"
      ]
     },
     "execution_count": 15,
     "metadata": {},
     "output_type": "execute_result"
    }
   ],
   "source": [
    "len(animais)"
   ]
  },
  {
   "cell_type": "code",
   "execution_count": 16,
   "id": "f4ca3afd",
   "metadata": {},
   "outputs": [
    {
     "data": {
      "text/plain": [
       "False"
      ]
     },
     "execution_count": 16,
     "metadata": {},
     "output_type": "execute_result"
    }
   ],
   "source": [
    "\"gato\" in animais"
   ]
  },
  {
   "cell_type": "code",
   "execution_count": 17,
   "id": "a577aca5",
   "metadata": {},
   "outputs": [],
   "source": [
    "lista = [500, 30, 300, 80, 10]"
   ]
  },
  {
   "cell_type": "code",
   "execution_count": 18,
   "id": "a56cc316",
   "metadata": {},
   "outputs": [
    {
     "data": {
      "text/plain": [
       "500"
      ]
     },
     "execution_count": 18,
     "metadata": {},
     "output_type": "execute_result"
    }
   ],
   "source": [
    "max(lista)"
   ]
  },
  {
   "cell_type": "code",
   "execution_count": 19,
   "id": "76bf7d69",
   "metadata": {},
   "outputs": [
    {
     "data": {
      "text/plain": [
       "10"
      ]
     },
     "execution_count": 19,
     "metadata": {},
     "output_type": "execute_result"
    }
   ],
   "source": [
    "min(lista)"
   ]
  },
  {
   "cell_type": "code",
   "execution_count": 20,
   "id": "07840f93",
   "metadata": {},
   "outputs": [],
   "source": [
    "animais.append(\"leão\")"
   ]
  },
  {
   "cell_type": "code",
   "execution_count": 21,
   "id": "3e3b807e",
   "metadata": {},
   "outputs": [
    {
     "data": {
      "text/plain": [
       "['papagaio', 12345, 6.5, 'leão']"
      ]
     },
     "execution_count": 21,
     "metadata": {},
     "output_type": "execute_result"
    }
   ],
   "source": [
    "animais"
   ]
  },
  {
   "cell_type": "code",
   "execution_count": 23,
   "id": "64ffeb19",
   "metadata": {},
   "outputs": [],
   "source": [
    "animais.extend([\"cobra\", 6])"
   ]
  },
  {
   "cell_type": "code",
   "execution_count": 24,
   "id": "2e44c648",
   "metadata": {},
   "outputs": [
    {
     "data": {
      "text/plain": [
       "['papagaio', 12345, 6.5, 'leão', 'cobra', 6]"
      ]
     },
     "execution_count": 24,
     "metadata": {},
     "output_type": "execute_result"
    }
   ],
   "source": [
    "animais"
   ]
  },
  {
   "cell_type": "code",
   "execution_count": 27,
   "id": "557315c2",
   "metadata": {},
   "outputs": [
    {
     "data": {
      "text/plain": [
       "1"
      ]
     },
     "execution_count": 27,
     "metadata": {},
     "output_type": "execute_result"
    }
   ],
   "source": [
    "animais.count(\"leão\")"
   ]
  },
  {
   "cell_type": "code",
   "execution_count": 28,
   "id": "0fd9428f",
   "metadata": {},
   "outputs": [],
   "source": [
    "lista.sort()"
   ]
  },
  {
   "cell_type": "code",
   "execution_count": 29,
   "id": "768990d2",
   "metadata": {},
   "outputs": [
    {
     "data": {
      "text/plain": [
       "[10, 30, 80, 300, 500]"
      ]
     },
     "execution_count": 29,
     "metadata": {},
     "output_type": "execute_result"
    }
   ],
   "source": [
    "lista"
   ]
  },
  {
   "cell_type": "markdown",
   "id": "48751f07",
   "metadata": {},
   "source": [
    "## Tuplas"
   ]
  },
  {
   "cell_type": "code",
   "execution_count": 31,
   "id": "424aa6c0",
   "metadata": {},
   "outputs": [],
   "source": [
    "#As tuplas usam parênteses como sintaxe\n",
    "tp = (\"Banana\", \"Maça\", 10, 50)"
   ]
  },
  {
   "cell_type": "code",
   "execution_count": 32,
   "id": "d3e4ada7",
   "metadata": {},
   "outputs": [
    {
     "data": {
      "text/plain": [
       "'Banana'"
      ]
     },
     "execution_count": 32,
     "metadata": {},
     "output_type": "execute_result"
    }
   ],
   "source": [
    "#Reornando o primeiro elemento\n",
    "tp[0]"
   ]
  },
  {
   "cell_type": "code",
   "execution_count": 33,
   "id": "a899d5d1",
   "metadata": {},
   "outputs": [
    {
     "ename": "TypeError",
     "evalue": "'tuple' object does not support item assignment",
     "output_type": "error",
     "traceback": [
      "\u001b[1;31m---------------------------------------------------------------------------\u001b[0m",
      "\u001b[1;31mTypeError\u001b[0m                                 Traceback (most recent call last)",
      "Input \u001b[1;32mIn [33]\u001b[0m, in \u001b[0;36m<cell line: 2>\u001b[1;34m()\u001b[0m\n\u001b[0;32m      1\u001b[0m \u001b[38;5;66;03m#Diferente das listas tuplas são imutáveis, o que quer dizer que não podemos alterar os seus elementos\u001b[39;00m\n\u001b[1;32m----> 2\u001b[0m tp[\u001b[38;5;241m0\u001b[39m] \u001b[38;5;241m=\u001b[39m \u001b[38;5;124m\"\u001b[39m\u001b[38;5;124mLaranja\u001b[39m\u001b[38;5;124m\"\u001b[39m\n",
      "\u001b[1;31mTypeError\u001b[0m: 'tuple' object does not support item assignment"
     ]
    }
   ],
   "source": [
    "#Diferente das listas tuplas são imutáveis, o que quer dizer que não podemos alterar os seus elementos\n",
    "tp[0] = \"Laranja\""
   ]
  },
  {
   "cell_type": "code",
   "execution_count": 35,
   "id": "5a5c2021",
   "metadata": {},
   "outputs": [
    {
     "data": {
      "text/plain": [
       "1"
      ]
     },
     "execution_count": 35,
     "metadata": {},
     "output_type": "execute_result"
    }
   ],
   "source": [
    "tp.count(\"Maça\")"
   ]
  },
  {
   "cell_type": "markdown",
   "id": "ff152601",
   "metadata": {},
   "source": [
    "## Dicionários"
   ]
  },
  {
   "cell_type": "code",
   "execution_count": 36,
   "id": "e98fcfc3",
   "metadata": {},
   "outputs": [],
   "source": [
    "#Para criar um dicionair utilizamos as {}\n",
    "dc = {\"Maça\":20, \"Banana\":10, \"Laranja\":15, \"Uva\":5} #Dicionários trabalham com o conceito chave e valor"
   ]
  },
  {
   "cell_type": "code",
   "execution_count": 37,
   "id": "04a2f43a",
   "metadata": {},
   "outputs": [
    {
     "data": {
      "text/plain": [
       "{'Maça': 20, 'Banana': 10, 'Laranja': 15, 'Uva': 5}"
      ]
     },
     "execution_count": 37,
     "metadata": {},
     "output_type": "execute_result"
    }
   ],
   "source": [
    "dc"
   ]
  },
  {
   "cell_type": "code",
   "execution_count": 39,
   "id": "f26eb8af",
   "metadata": {},
   "outputs": [
    {
     "data": {
      "text/plain": [
       "20"
      ]
     },
     "execution_count": 39,
     "metadata": {},
     "output_type": "execute_result"
    }
   ],
   "source": [
    "#Acessando o valor de um dicionário através da chave\n",
    "dc[\"Maça\"]"
   ]
  },
  {
   "cell_type": "code",
   "execution_count": 41,
   "id": "bd38ab3d",
   "metadata": {},
   "outputs": [
    {
     "data": {
      "text/plain": [
       "{'Maça': 25, 'Banana': 10, 'Laranja': 15, 'Uva': 5}"
      ]
     },
     "execution_count": 41,
     "metadata": {},
     "output_type": "execute_result"
    }
   ],
   "source": [
    "#Atualizando o valor da Maça\n",
    "dc[\"Maça\"] = 25\n",
    "dc"
   ]
  },
  {
   "cell_type": "code",
   "execution_count": 42,
   "id": "63fd4a7a",
   "metadata": {},
   "outputs": [
    {
     "data": {
      "text/plain": [
       "dict_keys(['Maça', 'Banana', 'Laranja', 'Uva'])"
      ]
     },
     "execution_count": 42,
     "metadata": {},
     "output_type": "execute_result"
    }
   ],
   "source": [
    "#Retornando todas as chaves do dicionario\n",
    "dc.keys()"
   ]
  },
  {
   "cell_type": "code",
   "execution_count": 43,
   "id": "eaf2c4cc",
   "metadata": {},
   "outputs": [
    {
     "data": {
      "text/plain": [
       "dict_values([25, 10, 15, 5])"
      ]
     },
     "execution_count": 43,
     "metadata": {},
     "output_type": "execute_result"
    }
   ],
   "source": [
    "#Retornando os valores do dicionário\n",
    "dc.values()"
   ]
  },
  {
   "cell_type": "code",
   "execution_count": 44,
   "id": "7677eb01",
   "metadata": {},
   "outputs": [
    {
     "data": {
      "text/plain": [
       "22"
      ]
     },
     "execution_count": 44,
     "metadata": {},
     "output_type": "execute_result"
    }
   ],
   "source": [
    "#Verificando se já existe uma chave no dicionário e caso não exista vai inserir\n",
    "dc.setdefault(\"limão\", 22)"
   ]
  },
  {
   "cell_type": "code",
   "execution_count": 45,
   "id": "b1d93d33",
   "metadata": {},
   "outputs": [
    {
     "data": {
      "text/plain": [
       "{'Maça': 25, 'Banana': 10, 'Laranja': 15, 'Uva': 5, 'limão': 22}"
      ]
     },
     "execution_count": 45,
     "metadata": {},
     "output_type": "execute_result"
    }
   ],
   "source": [
    "dc"
   ]
  },
  {
   "cell_type": "code",
   "execution_count": null,
   "id": "dffadf0f",
   "metadata": {},
   "outputs": [],
   "source": []
  }
 ],
 "metadata": {
  "kernelspec": {
   "display_name": "Python 3 (ipykernel)",
   "language": "python",
   "name": "python3"
  },
  "language_info": {
   "codemirror_mode": {
    "name": "ipython",
    "version": 3
   },
   "file_extension": ".py",
   "mimetype": "text/x-python",
   "name": "python",
   "nbconvert_exporter": "python",
   "pygments_lexer": "ipython3",
   "version": "3.9.12"
  }
 },
 "nbformat": 4,
 "nbformat_minor": 5
}
